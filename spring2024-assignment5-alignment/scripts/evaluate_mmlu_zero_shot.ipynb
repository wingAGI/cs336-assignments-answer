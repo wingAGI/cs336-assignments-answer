{
 "cells": [
  {
   "cell_type": "markdown",
   "id": "fc6856f3",
   "metadata": {},
   "source": [
    "#### (c) How many model generations does your evaluation function fail to parse? If non-zero, what do these examples look like?"
   ]
  },
  {
   "cell_type": "code",
   "execution_count": 13,
   "id": "85770589",
   "metadata": {},
   "outputs": [],
   "source": [
    "import pandas as pd\n",
    "\n",
    "result_df = pd.read_csv(\"/home/hex/spring2024-assignment5-alignment/results/model_evaluation_results.csv\")"
   ]
  },
  {
   "cell_type": "code",
   "execution_count": 14,
   "id": "cef66acb",
   "metadata": {},
   "outputs": [],
   "source": [
    "parse_fail_df = result_df[result_df['ParseFail'] == True]\n",
    "parse_fail_df.to_csv(\"/home/hex/spring2024-assignment5-alignment/results/model_evaluation_results_parse_fail.csv\")"
   ]
  },
  {
   "cell_type": "markdown",
   "id": "adce2479",
   "metadata": {},
   "source": [
    "观察发现，不能解析出选项的回答往往是这两种模式：\n",
    "1) 模型输出是在复述问题\n",
    "2) 模型回答的是选项的内容，而不是选项"
   ]
  },
  {
   "cell_type": "markdown",
   "id": "4b7e7eec",
   "metadata": {},
   "source": [
    "#### How long does it take the model to generate responses to each of the MMLU examples? Estimate the throughput in examples/second."
   ]
  },
  {
   "cell_type": "code",
   "execution_count": null,
   "id": "87e58fa9",
   "metadata": {},
   "outputs": [],
   "source": []
  },
  {
   "cell_type": "markdown",
   "id": "08989db3",
   "metadata": {},
   "source": [
    "#### Sample 10 random incorrectly-predicted examples from the evaluation dataset. Looking through the examples, what sort of errors does the language model make?"
   ]
  },
  {
   "cell_type": "code",
   "execution_count": 15,
   "id": "b603a509",
   "metadata": {},
   "outputs": [],
   "source": [
    "df = result_df[result_df['Evaluation_Score'] == 0].sample(10)"
   ]
  },
  {
   "cell_type": "code",
   "execution_count": 16,
   "id": "b25c8e9a",
   "metadata": {},
   "outputs": [],
   "source": [
    "df.to_csv(\"/home/hex/spring2024-assignment5-alignment/results/model_evaluation_results_ten_error_examples.csv\")"
   ]
  },
  {
   "cell_type": "code",
   "execution_count": null,
   "id": "496c602c",
   "metadata": {},
   "outputs": [],
   "source": []
  },
  {
   "cell_type": "code",
   "execution_count": null,
   "id": "70dac02e",
   "metadata": {},
   "outputs": [],
   "source": []
  },
  {
   "cell_type": "code",
   "execution_count": 5,
   "id": "fc190162",
   "metadata": {},
   "outputs": [],
   "source": [
    "\n",
    "x = \"\"\"{\n",
    "    \"ranking\": [\n",
    "        {\"model\": \"model_2\", \"rank\": 1},\n",
    "        {\"model\": \"model_1\", \"rank\": 2}\n",
    "    ]\n",
    "}\"\"\""
   ]
  },
  {
   "cell_type": "code",
   "execution_count": 6,
   "id": "83432681",
   "metadata": {},
   "outputs": [
    {
     "data": {
      "text/plain": [
       "'{\\n    \"ranking\": [\\n        {\"model\": \"model_2\", \"rank\": 1},\\n        {\"model\": \"model_1\", \"rank\": 2}\\n    ]\\n}'"
      ]
     },
     "execution_count": 6,
     "metadata": {},
     "output_type": "execute_result"
    }
   ],
   "source": [
    "x"
   ]
  },
  {
   "cell_type": "code",
   "execution_count": 8,
   "id": "435f0183",
   "metadata": {},
   "outputs": [
    {
     "data": {
      "text/plain": [
       "[{'model': 'model_2', 'rank': 1}, {'model': 'model_1', 'rank': 2}]"
      ]
     },
     "execution_count": 8,
     "metadata": {},
     "output_type": "execute_result"
    }
   ],
   "source": [
    "eval(x)['ranking']"
   ]
  },
  {
   "cell_type": "code",
   "execution_count": null,
   "id": "574861a3",
   "metadata": {},
   "outputs": [],
   "source": []
  }
 ],
 "metadata": {
  "kernelspec": {
   "display_name": "cs336_alignment",
   "language": "python",
   "name": "python3"
  },
  "language_info": {
   "codemirror_mode": {
    "name": "ipython",
    "version": 3
   },
   "file_extension": ".py",
   "mimetype": "text/x-python",
   "name": "python",
   "nbconvert_exporter": "python",
   "pygments_lexer": "ipython3",
   "version": "3.10.16"
  }
 },
 "nbformat": 4,
 "nbformat_minor": 5
}
